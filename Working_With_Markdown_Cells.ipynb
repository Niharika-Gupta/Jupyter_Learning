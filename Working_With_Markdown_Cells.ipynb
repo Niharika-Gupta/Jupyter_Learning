{
 "cells": [
  {
   "cell_type": "markdown",
   "metadata": {},
   "source": [
    "# Learn to code\n",
    "## Second Header\n",
    "### Third header\n",
    "\n",
    "Plain text\n",
    "\n",
    "URL link [Home Page](https://www.google.com)\n",
    "\n",
    "to keep bold figures **Hello** __Hello__\n",
    "\n",
    "to keep italic figures *Hello* _Hello_\n",
    "\n",
    "> tip\n",
    "\n",
    "`string.puntuation`\n",
    "\n",
    "```\n",
    "import requests\n",
    "response = requests.get('https://www.udacity.com')\n",
    "```\n",
    "\n",
    "    import requests\n",
    "    response = requests.get('https://www.udacity.com')\n",
    "    \n",
    "$y=mx+b$ \n",
    "\n",
    "$$\n",
    "y = mx +b\n",
    "$$\n"
   ]
  },
  {
   "cell_type": "code",
   "execution_count": null,
   "metadata": {},
   "outputs": [],
   "source": []
  }
 ],
 "metadata": {
  "kernelspec": {
   "display_name": "Python [default]",
   "language": "python",
   "name": "python3"
  },
  "language_info": {
   "codemirror_mode": {
    "name": "ipython",
    "version": 3
   },
   "file_extension": ".py",
   "mimetype": "text/x-python",
   "name": "python",
   "nbconvert_exporter": "python",
   "pygments_lexer": "ipython3",
   "version": "3.7.0"
  }
 },
 "nbformat": 4,
 "nbformat_minor": 2
}
